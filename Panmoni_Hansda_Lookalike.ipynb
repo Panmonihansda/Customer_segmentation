{
 "cells": [
  {
   "cell_type": "code",
   "execution_count": 1,
   "id": "b4cadbd8-2e9a-45cb-bc49-e92898710140",
   "metadata": {},
   "outputs": [
    {
     "name": "stdout",
     "output_type": "stream",
     "text": [
      "Lookalike model executed successfully and results saved to Lookalike.csv.\n"
     ]
    }
   ],
   "source": [
    "import pandas as pd\n",
    "import numpy as np\n",
    "from sklearn.preprocessing import StandardScaler\n",
    "from sklearn.metrics.pairwise import cosine_similarity\n",
    "\n",
    "# Load data\n",
    "customers = pd.read_csv('Customers.csv')\n",
    "transactions = pd.read_csv('Transactions.csv')\n",
    "\n",
    "# Data Preparation\n",
    "# Merge transaction data to get total spend, frequency, and favorite products\n",
    "transaction_summary = transactions.groupby('CustomerID').agg({\n",
    "    'TotalValue': ['sum', 'mean'],\n",
    "    'ProductID': lambda x: x.mode()[0]  # Most frequently purchased product\n",
    "}).reset_index()\n",
    "transaction_summary.columns = ['CustomerID', 'TotalSpend', 'AvgSpend', 'FavoriteProduct']\n",
    "\n",
    "# Merge with customer data\n",
    "customer_profiles = pd.merge(customers, transaction_summary, on='CustomerID', how='left')\n",
    "customer_profiles.fillna({'TotalSpend': 0, 'AvgSpend': 0, 'FavoriteProduct': 'Unknown'}, inplace=True)\n",
    "\n",
    "# Encoding categorical variables\n",
    "customer_profiles['Region'] = customer_profiles['Region'].astype('category').cat.codes\n",
    "customer_profiles['FavoriteProduct'] = customer_profiles['FavoriteProduct'].astype('category').cat.codes\n",
    "\n",
    "# Feature selection\n",
    "features = customer_profiles[['Region', 'TotalSpend', 'AvgSpend', 'FavoriteProduct']]\n",
    "scaler = StandardScaler()\n",
    "scaled_features = scaler.fit_transform(features)\n",
    "\n",
    "# Similarity Calculation\n",
    "similarity_matrix = cosine_similarity(scaled_features)\n",
    "similarity_df = pd.DataFrame(similarity_matrix, index=customer_profiles['CustomerID'], columns=customer_profiles['CustomerID'])\n",
    "\n",
    "# Lookalike Recommendation\n",
    "lookalike_results = {}\n",
    "for customer_id in customer_profiles['CustomerID'][:20]:  # First 20 customers (C0001 - C0020)\n",
    "    similar_customers = similarity_df[customer_id].sort_values(ascending=False)[1:4]  # Top 3 excluding itself\n",
    "    lookalike_results[customer_id] = [(similar_id, round(score, 4)) for similar_id, score in similar_customers.items()]\n",
    "\n",
    "# Save results to Lookalike.csv\n",
    "lookalike_df = pd.DataFrame({\n",
    "    'cust_id': lookalike_results.keys(),\n",
    "    'lookalikes': [str(val) for val in lookalike_results.values()]\n",
    "})\n",
    "lookalike_df.to_csv('Panmoni_Hansda_Lookalike.csv', index=False)\n",
    "\n",
    "print(\"Lookalike model executed successfully and results saved to Lookalike.csv.\")\n"
   ]
  },
  {
   "cell_type": "code",
   "execution_count": null,
   "id": "ba9c88c9-df74-4379-91ce-808c483092c2",
   "metadata": {},
   "outputs": [],
   "source": []
  }
 ],
 "metadata": {
  "kernelspec": {
   "display_name": "Python 3 (ipykernel)",
   "language": "python",
   "name": "python3"
  },
  "language_info": {
   "codemirror_mode": {
    "name": "ipython",
    "version": 3
   },
   "file_extension": ".py",
   "mimetype": "text/x-python",
   "name": "python",
   "nbconvert_exporter": "python",
   "pygments_lexer": "ipython3",
   "version": "3.12.3"
  },
  "widgets": {
   "application/vnd.jupyter.widget-state+json": {
    "state": {},
    "version_major": 2,
    "version_minor": 0
   }
  }
 },
 "nbformat": 4,
 "nbformat_minor": 5
}
